{
 "cells": [
  {
   "cell_type": "code",
   "execution_count": 1,
   "metadata": {},
   "outputs": [],
   "source": [
    "import pandas as pd"
   ]
  },
  {
   "cell_type": "code",
   "execution_count": 2,
   "metadata": {},
   "outputs": [],
   "source": [
    "postings = pd.read_parquet(\"linkedin_job_postings.parquet\")"
   ]
  },
  {
   "cell_type": "code",
   "execution_count": 3,
   "metadata": {},
   "outputs": [],
   "source": [
    "skills = pd.read_parquet(\"job_skills.parquet\")"
   ]
  },
  {
   "cell_type": "code",
   "execution_count": 4,
   "metadata": {},
   "outputs": [],
   "source": [
    "summary = pd.read_parquet(\"job_summary.parquet\")"
   ]
  },
  {
   "cell_type": "code",
   "execution_count": 5,
   "metadata": {},
   "outputs": [
    {
     "name": "stdout",
     "output_type": "stream",
     "text": [
      "(1348454, 14)\n",
      "(1296381, 2)\n",
      "(1297332, 2)\n"
     ]
    }
   ],
   "source": [
    "print(postings.shape)\n",
    "print(skills.shape)\n",
    "print(summary.shape)"
   ]
  },
  {
   "cell_type": "markdown",
   "metadata": {},
   "source": [
    "Data Preprocessing\n",
    "\n",
    "- Convert t & f to python True and False\n",
    "- Convert date strings to pd.datetime64\n",
    "- Turn comma separated strings into lists (skills[\"job_skills\"])"
   ]
  },
  {
   "cell_type": "code",
   "execution_count": 6,
   "metadata": {},
   "outputs": [
    {
     "data": {
      "text/html": [
       "<div>\n",
       "<style scoped>\n",
       "    .dataframe tbody tr th:only-of-type {\n",
       "        vertical-align: middle;\n",
       "    }\n",
       "\n",
       "    .dataframe tbody tr th {\n",
       "        vertical-align: top;\n",
       "    }\n",
       "\n",
       "    .dataframe thead th {\n",
       "        text-align: right;\n",
       "    }\n",
       "</style>\n",
       "<table border=\"1\" class=\"dataframe\">\n",
       "  <thead>\n",
       "    <tr style=\"text-align: right;\">\n",
       "      <th></th>\n",
       "      <th>job_link</th>\n",
       "      <th>job_skills</th>\n",
       "    </tr>\n",
       "  </thead>\n",
       "  <tbody>\n",
       "    <tr>\n",
       "      <th>0</th>\n",
       "      <td>https://www.linkedin.com/jobs/view/housekeeper...</td>\n",
       "      <td>[Building Custodial Services, Cleaning, Janito...</td>\n",
       "    </tr>\n",
       "    <tr>\n",
       "      <th>1</th>\n",
       "      <td>https://www.linkedin.com/jobs/view/assistant-g...</td>\n",
       "      <td>[Customer service, Restaurant management, Food...</td>\n",
       "    </tr>\n",
       "    <tr>\n",
       "      <th>2</th>\n",
       "      <td>https://www.linkedin.com/jobs/view/school-base...</td>\n",
       "      <td>[Applied Behavior Analysis (ABA), Data analysi...</td>\n",
       "    </tr>\n",
       "    <tr>\n",
       "      <th>3</th>\n",
       "      <td>https://www.linkedin.com/jobs/view/electrical-...</td>\n",
       "      <td>[Electrical Engineering, Project Controls, Sch...</td>\n",
       "    </tr>\n",
       "    <tr>\n",
       "      <th>4</th>\n",
       "      <td>https://www.linkedin.com/jobs/view/electrical-...</td>\n",
       "      <td>[Electrical Assembly, Point to point wiring, S...</td>\n",
       "    </tr>\n",
       "  </tbody>\n",
       "</table>\n",
       "</div>"
      ],
      "text/plain": [
       "                                            job_link  \\\n",
       "0  https://www.linkedin.com/jobs/view/housekeeper...   \n",
       "1  https://www.linkedin.com/jobs/view/assistant-g...   \n",
       "2  https://www.linkedin.com/jobs/view/school-base...   \n",
       "3  https://www.linkedin.com/jobs/view/electrical-...   \n",
       "4  https://www.linkedin.com/jobs/view/electrical-...   \n",
       "\n",
       "                                          job_skills  \n",
       "0  [Building Custodial Services, Cleaning, Janito...  \n",
       "1  [Customer service, Restaurant management, Food...  \n",
       "2  [Applied Behavior Analysis (ABA), Data analysi...  \n",
       "3  [Electrical Engineering, Project Controls, Sch...  \n",
       "4  [Electrical Assembly, Point to point wiring, S...  "
      ]
     },
     "execution_count": 6,
     "metadata": {},
     "output_type": "execute_result"
    }
   ],
   "source": [
    "def t_f_to_bool(x):\n",
    "    return True if x == \"t\" else False\n",
    "\n",
    "def split_str(x):\n",
    "    if x is None:\n",
    "        return []\n",
    "    if isinstance(x, str):\n",
    "        return x.split(\", \")\n",
    "\n",
    "for col in [\"got_summary\", \"got_ner\", \"is_being_worked\"]:\n",
    "    postings[col] = postings[col].apply(t_f_to_bool)\n",
    "\n",
    "postings[\"last_processed_time\"] = pd.to_datetime(postings[\"last_processed_time\"], format=\"ISO8601\")\n",
    "postings[\"first_seen\"] = pd.to_datetime(postings[\"first_seen\"], format=\"ISO8601\")\n",
    "\n",
    "skills[\"job_skills\"] = skills[\"job_skills\"].apply(split_str)\n",
    "postings.head()\n",
    "skills.head()"
   ]
  },
  {
   "cell_type": "code",
   "execution_count": 7,
   "metadata": {},
   "outputs": [
    {
     "name": "stdout",
     "output_type": "stream",
     "text": [
      "['Division 1', 'Subdivision A', 'Newfoundland and Labrador', 'Canada']\n",
      "['Thunder Bay', 'Unorganized', 'Ontario', 'Canada']\n",
      "['Antigonish', 'Subdivision B', 'Nova Scotia', 'Canada']\n",
      "['Kings', 'Subdivision A', 'Nova Scotia', 'Canada']\n",
      "['Thunder Bay', 'Unorganized', 'Ontario', 'Canada']\n",
      "['Bogota', 'D.C.', 'Capital District', 'Colombia']\n",
      "['Division 9', 'Subdivision D', 'Newfoundland and Labrador', 'Canada']\n",
      "['Division 9', 'Subdivision D', 'Newfoundland and Labrador', 'Canada']\n",
      "['Thunder Bay', 'Unorganized', 'Ontario', 'Canada']\n",
      "['Pictou', 'Subdivision A', 'Nova Scotia', 'Canada']\n",
      "['Thunder Bay', 'Unorganized', 'Ontario', 'Canada']\n",
      "['Bogota', 'D.C.', 'Capital District', 'Colombia']\n",
      "['Division 9', 'Subdivision D', 'Newfoundland and Labrador', 'Canada']\n",
      "['Division 9', 'Subdivision D', 'Newfoundland and Labrador', 'Canada']\n",
      "['Division 1', 'Subdivision A', 'Newfoundland and Labrador', 'Canada']\n",
      "['Kings', 'Subdivision A', 'Nova Scotia', 'Canada']\n",
      "['Division 9', 'Subdivision D', 'Newfoundland and Labrador', 'Canada']\n",
      "['Antigonish', 'Subdivision B', 'Nova Scotia', 'Canada']\n",
      "['Cumberland', 'Subdivision B', 'Nova Scotia', 'Canada']\n",
      "['Division 9', 'Subdivision D', 'Newfoundland and Labrador', 'Canada']\n",
      "['Division 9', 'Subdivision D', 'Newfoundland and Labrador', 'Canada']\n",
      "['Annapolis', 'Subdivision D', 'Nova Scotia', 'Canada']\n",
      "['Pictou', 'Subdivision A', 'Nova Scotia', 'Canada']\n",
      "['Division 9', 'Subdivision D', 'Newfoundland and Labrador', 'Canada']\n",
      "['Annapolis', 'Subdivision D', 'Nova Scotia', 'Canada']\n",
      "['Division 9', 'Subdivision D', 'Newfoundland and Labrador', 'Canada']\n",
      "['Pictou', 'Subdivision A', 'Nova Scotia', 'Canada']\n",
      "['Division 9', 'Subdivision D', 'Newfoundland and Labrador', 'Canada']\n"
     ]
    }
   ],
   "source": [
    "for x in postings[\"job_location\"].apply(split_str):\n",
    "    if len(x) == 4:\n",
    "        print(x)"
   ]
  }
 ],
 "metadata": {
  "kernelspec": {
   "display_name": "Python 3",
   "language": "python",
   "name": "python3"
  },
  "language_info": {
   "codemirror_mode": {
    "name": "ipython",
    "version": 3
   },
   "file_extension": ".py",
   "mimetype": "text/x-python",
   "name": "python",
   "nbconvert_exporter": "python",
   "pygments_lexer": "ipython3",
   "version": "3.10.4"
  }
 },
 "nbformat": 4,
 "nbformat_minor": 2
}
